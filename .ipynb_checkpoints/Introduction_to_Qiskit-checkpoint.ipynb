{
 "cells": [
  {
   "cell_type": "markdown",
   "id": "27caf603",
   "metadata": {},
   "source": [
    "# Introduction to Qiskit 🎉\n",
    "### Qiskit is a python framework for the simulation of quantum algorithms"
   ]
  },
  {
   "cell_type": "code",
   "execution_count": 40,
   "id": "6e9d202d",
   "metadata": {},
   "outputs": [],
   "source": [
    "from qiskit import QuantumCircuit, QuantumRegister"
   ]
  },
  {
   "cell_type": "code",
   "execution_count": 41,
   "id": "ab5437af",
   "metadata": {},
   "outputs": [],
   "source": [
    "# Let's define a qubit!\n",
    "q = QuantumRegister(1,'q')\n",
    "\n",
    "# We add the qubit 'q' to a Quantum Circuit 'qc'\n",
    "quantum_circuit = QuantumCircuit(q)"
   ]
  },
  {
   "cell_type": "markdown",
   "id": "218c743b",
   "metadata": {},
   "source": [
    "### How to run a circuit?"
   ]
  },
  {
   "cell_type": "code",
   "execution_count": 42,
   "id": "e47c9ae8",
   "metadata": {},
   "outputs": [],
   "source": [
    "from qiskit import Aer, execute"
   ]
  },
  {
   "cell_type": "code",
   "execution_count": 43,
   "id": "8c4f19f1",
   "metadata": {},
   "outputs": [
    {
     "name": "stdout",
     "output_type": "stream",
     "text": [
      "Something is missing...\n"
     ]
    }
   ],
   "source": [
    "try:\n",
    "    backend_sim = Aer.get_backend('qasm_simulator')\n",
    "    job = execute(quantum_circuit, backend_sim, shots=1024)\n",
    "    count = job.result().get_counts()\n",
    "except Exception:\n",
    "    print('Something is missing...')"
   ]
  },
  {
   "cell_type": "markdown",
   "id": "21954aba",
   "metadata": {},
   "source": [
    "### Questions\n",
    "- What did we forget?\n",
    "- What is the initial value of qubit 'q'?\n"
   ]
  },
  {
   "cell_type": "code",
   "execution_count": 44,
   "id": "f1de66bd",
   "metadata": {},
   "outputs": [
    {
     "data": {
      "image/png": "[encoded data removed]",
      "text/plain": [
       "<Figure size 504x360 with 1 Axes>"
      ]
     },
     "execution_count": 44,
     "metadata": {},
     "output_type": "execute_result"
    }
   ],
   "source": [
    "from qiskit import ClassicalRegister\n",
    "from qiskit.visualization import plot_histogram\n",
    "\n",
    "# Define qubits and bits\n",
    "q = QuantumRegister(1,'q')\n",
    "c_q = ClassicalRegister(1,'c_q')\n",
    "\n",
    "# Add the qubits and the bits to a quantum circuit\n",
    "quantum_circuit = QuantumCircuit(q, c_q)\n",
    "\n",
    "# Add the measurements to your quantum circuit\n",
    "quantum_circuit.measure(q, c_q) # <---- HERE \n",
    "\n",
    "# Execute the quantum circuit\n",
    "backend_sim = Aer.get_backend('qasm_simulator')\n",
    "job = execute(quantum_circuit, backend_sim, shots=1024)\n",
    "counts = job.result().get_counts()\n",
    "\n",
    "plot_histogram(counts)"
   ]
  },
  {
   "cell_type": "markdown",
   "id": "df0af725",
   "metadata": {},
   "source": [
    "### How can we visualize a circuit? 2 ways!\n",
    "- But first, let's make the things interesting using quantum gates!"
   ]
  },
  {
   "cell_type": "code",
   "execution_count": 84,
   "id": "d1aa3e21",
   "metadata": {},
   "outputs": [
    {
     "data": {
      "text/plain": [
       "<qiskit.circuit.instructionset.InstructionSet at 0x7fb040d8f6a0>"
      ]
     },
     "execution_count": 84,
     "metadata": {},
     "output_type": "execute_result"
    }
   ],
   "source": [
    "from qiskit.circuit.library import XGate\n",
    "\n",
    "\n",
    "# ------ Define the circuit \n",
    "q = QuantumRegister(1,'q')\n",
    "c_q = ClassicalRegister(1,'c_q')\n",
    "\n",
    "quantum_circuit = QuantumCircuit(q, c_q)\n",
    "\n",
    "# ------ Add quantum gates to the circuit \n",
    "quantum_circuit.append(XGate(), q)"
   ]
  },
  {
   "cell_type": "markdown",
   "id": "ccf2cc25",
   "metadata": {},
   "source": [
    "### 1) Matrix representation"
   ]
  },
  {
   "cell_type": "code",
   "execution_count": 85,
   "id": "140a5123",
   "metadata": {},
   "outputs": [
    {
     "name": "stdout",
     "output_type": "stream",
     "text": [
      "[[0.+0.j 1.+0.j]\n",
      " [1.+0.j 0.+0.j]]\n"
     ]
    }
   ],
   "source": [
    "from qiskit.quantum_info import Operator\n",
    "\n",
    "operator = Operator(quantum_circuit)\n",
    "matrix = operator.data\n",
    "print(matrix)"
   ]
  },
  {
   "cell_type": "markdown",
   "id": "aae15461",
   "metadata": {},
   "source": [
    "### 2) Circuit representation"
   ]
  },
  {
   "cell_type": "code",
   "execution_count": 86,
   "id": "7ed98452",
   "metadata": {},
   "outputs": [
    {
     "data": {
      "image/png": "[encoded data removed]",
      "text/plain": [
       "<Figure size 155.451x144.48 with 1 Axes>"
      ]
     },
     "execution_count": 86,
     "metadata": {},
     "output_type": "execute_result"
    }
   ],
   "source": [
    "quantum_circuit.draw('mpl')  #or quantum_circuit.draw()"
   ]
  },
  {
   "cell_type": "code",
   "execution_count": 87,
   "id": "f31084a1",
   "metadata": {},
   "outputs": [
    {
     "data": {
      "image/png": "[encoded data removed]",
      "text/plain": [
       "<Figure size 215.651x144.48 with 1 Axes>"
      ]
     },
     "execution_count": 87,
     "metadata": {},
     "output_type": "execute_result"
    }
   ],
   "source": [
    "# ------ Add Measurements \n",
    "quantum_circuit.measure(q, c_q)\n",
    "\n",
    "quantum_circuit.draw('mpl')"
   ]
  },
  {
   "cell_type": "code",
   "execution_count": 88,
   "id": "3cdbbeb1",
   "metadata": {},
   "outputs": [
    {
     "data": {
      "image/png": "[encoded data removed]",
      "text/plain": [
       "<Figure size 504x360 with 1 Axes>"
      ]
     },
     "execution_count": 88,
     "metadata": {},
     "output_type": "execute_result"
    }
   ],
   "source": [
    "backend_sim = Aer.get_backend('qasm_simulator')\n",
    "job = execute(quantum_circuit, backend_sim, shots=1024)\n",
    "counts = job.result().get_counts()\n",
    "\n",
    "plot_histogram(counts)"
   ]
  },
  {
   "cell_type": "markdown",
   "id": "103048af",
   "metadata": {},
   "source": [
    "## The statevector simulator "
   ]
  },
  {
   "cell_type": "code",
   "execution_count": 103,
   "id": "0526fede",
   "metadata": {},
   "outputs": [
    {
     "name": "stdout",
     "output_type": "stream",
     "text": [
      "Statevector([1.+0.j, 0.+0.j],\n",
      "            dims=(2,))\n"
     ]
    }
   ],
   "source": [
    "from qiskit.circuit.library import XGate\n",
    "\n",
    "q = QuantumRegister(1,'q')\n",
    "c_q = ClassicalRegister(1,'c_q')\n",
    "\n",
    "quantum_circuit = QuantumCircuit(q, c_q)\n",
    "\n",
    "#quantum_circuit.append(XGate(), q)\n",
    "\n",
    "# ------ Get the statevector  <--- !!! Don't add measurements before\n",
    "backend_sim = Aer.get_backend('statevector_simulator') # <----- HERE\n",
    "job = execute(quantum_circuit, backend_sim) \n",
    "statevector = job.result().get_statevector() \n",
    "\n",
    "print(statevector)"
   ]
  },
  {
   "cell_type": "markdown",
   "id": "94477f4a",
   "metadata": {},
   "source": [
    "### Again, let's visualize it!"
   ]
  },
  {
   "cell_type": "code",
   "execution_count": 104,
   "id": "492451e3",
   "metadata": {},
   "outputs": [
    {
     "data": {
      "image/png": "[encoded data removed]",
      "text/plain": [
       "<Figure size 288x288 with 1 Axes>"
      ]
     },
     "execution_count": 104,
     "metadata": {},
     "output_type": "execute_result"
    }
   ],
   "source": [
    "from qiskit.visualization import plot_bloch_multivector\n",
    "\n",
    "plot_bloch_multivector(statevector)"
   ]
  },
  {
   "cell_type": "markdown",
   "id": "a02d1e36",
   "metadata": {},
   "source": [
    "# More qubits... ⚛️⚛️"
   ]
  },
  {
   "cell_type": "code",
   "execution_count": 130,
   "id": "daebfc93",
   "metadata": {},
   "outputs": [
    {
     "data": {
      "image/png": "[encoded data removed]",
      "text/plain": [
       "<Figure size 155.451x325.08 with 1 Axes>"
      ]
     },
     "execution_count": 130,
     "metadata": {},
     "output_type": "execute_result"
    }
   ],
   "source": [
    "from qiskit.circuit.library import XGate\n",
    "\n",
    "n_qubits = 4\n",
    "\n",
    "q = QuantumRegister(n_qubits,'q')\n",
    "c_q = ClassicalRegister(n_qubits,'c_q')\n",
    "\n",
    "quantum_circuit = QuantumCircuit(q, c_q)\n",
    "\n",
    "#--------------------------------------------\n",
    "\n",
    "#NOTE: The XGate is a 1-qubit gate (a 2x2 unitary matrix)\n",
    "quantum_circuit.append(XGate(), [q[1]]) # <--- list of qubits\n",
    "\n",
    "#--------------------------------------------\n",
    "\n",
    "quantum_circuit.draw('mpl')"
   ]
  },
  {
   "cell_type": "code",
   "execution_count": 131,
   "id": "3eb9ab9a",
   "metadata": {},
   "outputs": [
    {
     "name": "stdout",
     "output_type": "stream",
     "text": [
      "Statevector([0.+0.j, 0.+0.j, 1.+0.j, 0.+0.j, 0.+0.j, 0.+0.j, 0.+0.j,\n",
      "             0.+0.j, 0.+0.j, 0.+0.j, 0.+0.j, 0.+0.j, 0.+0.j, 0.+0.j,\n",
      "             0.+0.j, 0.+0.j],\n",
      "            dims=(2, 2, 2, 2))\n"
     ]
    }
   ],
   "source": [
    "# ------ Get the statevector\n",
    "backend_sim = Aer.get_backend('statevector_simulator') # <----- HERE\n",
    "job = execute(quantum_circuit, backend_sim) \n",
    "statevector = job.result().get_statevector() \n",
    "\n",
    "print(statevector)"
   ]
  },
  {
   "cell_type": "code",
   "execution_count": 129,
   "id": "16b1cb38",
   "metadata": {},
   "outputs": [
    {
     "data": {
      "image/png": "[encoded data removed]",
      "text/plain": [
       "<Figure size 504x360 with 1 Axes>"
      ]
     },
     "execution_count": 129,
     "metadata": {},
     "output_type": "execute_result"
    }
   ],
   "source": [
    "# ------ Get the distribution\n",
    "\n",
    "quantum_circuit.measure(q, c_q) \n",
    "\n",
    "backend_sim = Aer.get_backend('qasm_simulator')\n",
    "job = execute(quantum_circuit, backend_sim, shots=1024)\n",
    "counts = job.result().get_counts()\n",
    "\n",
    "plot_histogram(counts)"
   ]
  },
  {
   "cell_type": "markdown",
   "id": "9e0814aa",
   "metadata": {},
   "source": [
    "## Take away message: \n",
    "\n",
    "Qiskit combines the four quantum bits in the following order:\n",
    "\n",
    "$$ q[3], q[2], q[1], q[0] .$$\n",
    "\n",
    "Then, each outcome is read in the same order.\n",
    "\n",
    "The outcome is a binary number, and so the first digit is expected to be the most significant bit and the last digit is expected to be the least significant bit.\n",
    "\n",
    "For example, $ 13 =  \\mathbf{1} \\cdot 2^3 + \\mathbf{1} \\cdot 2^2 + \\mathbf{0} \\cdot 2^1 + \\mathbf{1} \\cdot 2^0 $, which is equal to $ \\mathbf{1101} $ in binary.\n",
    "\n",
    "In this case, $ c_q[3] = 1 $, $ c_q[2] = 1 $, $ c_q[1] = 0 $, and $ c_q[0] = 1$. "
   ]
  },
  {
   "cell_type": "code",
   "execution_count": 136,
   "id": "de5b55e6",
   "metadata": {},
   "outputs": [
    {
     "data": {
      "image/png": "[encoded data removed]",
      "text/plain": [
       "<Figure size 456.451x325.08 with 1 Axes>"
      ]
     },
     "execution_count": 136,
     "metadata": {},
     "output_type": "execute_result"
    }
   ],
   "source": [
    "n_qubits = 4\n",
    "\n",
    "q = QuantumRegister(n_qubits,'q')\n",
    "c_q = ClassicalRegister(n_qubits,'c_q')\n",
    "\n",
    "quantum_circuit = QuantumCircuit(q, c_q)\n",
    "\n",
    "#--------------------------------------------\n",
    "\n",
    "#NOTE: The XGate is a 1-qubit gate (a 2x2 unitary matrix)\n",
    "quantum_circuit.append(XGate(), [q[0]]) \n",
    "quantum_circuit.append(XGate(), [q[2]]) \n",
    "quantum_circuit.append(XGate(), [q[3]])\n",
    "\n",
    "#--------------------------------------------\n",
    "quantum_circuit.barrier()\n",
    "quantum_circuit.measure(q, c_q) \n",
    "\n",
    "quantum_circuit.draw('mpl')"
   ]
  },
  {
   "cell_type": "code",
   "execution_count": 134,
   "id": "6a881dba",
   "metadata": {},
   "outputs": [
    {
     "data": {
      "image/png": "[encoded data removed]",
      "text/plain": [
       "<Figure size 504x360 with 1 Axes>"
      ]
     },
     "execution_count": 134,
     "metadata": {},
     "output_type": "execute_result"
    }
   ],
   "source": [
    "backend_sim = Aer.get_backend('qasm_simulator')\n",
    "job = execute(quantum_circuit, backend_sim, shots=1024)\n",
    "counts = job.result().get_counts()\n",
    "\n",
    "plot_histogram(counts)"
   ]
  },
  {
   "cell_type": "markdown",
   "id": "b52bc019",
   "metadata": {},
   "source": [
    "# Controlled Gate! 👀"
   ]
  },
  {
   "cell_type": "code",
   "execution_count": 142,
   "id": "2ea20073",
   "metadata": {},
   "outputs": [
    {
     "data": {
      "image/png": "[encoded data removed]",
      "text/plain": [
       "<Figure size 336.051x204.68 with 1 Axes>"
      ]
     },
     "execution_count": 142,
     "metadata": {},
     "output_type": "execute_result"
    }
   ],
   "source": [
    "q = QuantumRegister(2,'q')\n",
    "c_q = ClassicalRegister(2,'c_q')\n",
    "\n",
    "quantum_circuit = QuantumCircuit(q, c_q)\n",
    "\n",
    "#--------------------------------------------\n",
    "\n",
    "# Let's define a controlled-XGate (a.k.a. CX, CNOT)\n",
    "\n",
    "CXGate = XGate().control(1)\n",
    "quantum_circuit.append(CXGate, [q[0], q[1]]) \n",
    "\n",
    "#--------------------------------------------\n",
    "\n",
    "quantum_circuit.barrier()\n",
    "quantum_circuit.measure(q, c_q) \n",
    "\n",
    "quantum_circuit.draw('mpl')"
   ]
  },
  {
   "cell_type": "markdown",
   "id": "5f07d757",
   "metadata": {},
   "source": [
    "### What is the result of the previous circuit?"
   ]
  },
  {
   "cell_type": "code",
   "execution_count": 143,
   "id": "de06b6fe",
   "metadata": {},
   "outputs": [
    {
     "data": {
      "image/png": "[encoded data removed]",
      "text/plain": [
       "<Figure size 504x360 with 1 Axes>"
      ]
     },
     "execution_count": 143,
     "metadata": {},
     "output_type": "execute_result"
    }
   ],
   "source": [
    "backend_sim = Aer.get_backend('qasm_simulator')\n",
    "job = execute(quantum_circuit, backend_sim, shots=1024)\n",
    "counts = job.result().get_counts()\n",
    "\n",
    "plot_histogram(counts)"
   ]
  },
  {
   "cell_type": "markdown",
   "id": "c22ec581",
   "metadata": {},
   "source": [
    "## Again! 🔥"
   ]
  },
  {
   "cell_type": "code",
   "execution_count": 144,
   "id": "a10e14d5",
   "metadata": {},
   "outputs": [
    {
     "data": {
      "image/png": "[encoded data removed]",
      "text/plain": [
       "<Figure size 396.251x204.68 with 1 Axes>"
      ]
     },
     "execution_count": 144,
     "metadata": {},
     "output_type": "execute_result"
    }
   ],
   "source": [
    "q = QuantumRegister(2,'q')\n",
    "c_q = ClassicalRegister(2,'c_q')\n",
    "\n",
    "quantum_circuit = QuantumCircuit(q, c_q)\n",
    "\n",
    "#-------- Set q[0] to |1>\n",
    "\n",
    "quantum_circuit.append(XGate(), [q[0]]) \n",
    "\n",
    "#--------------------------------------------\n",
    "\n",
    "CXGate = XGate().control(1)\n",
    "quantum_circuit.append(CXGate, [q[0], q[1]]) \n",
    "\n",
    "#--------------------------------------------\n",
    "quantum_circuit.barrier()\n",
    "quantum_circuit.measure(q, c_q) \n",
    "\n",
    "quantum_circuit.draw('mpl')"
   ]
  },
  {
   "cell_type": "code",
   "execution_count": 145,
   "id": "676d38e5",
   "metadata": {},
   "outputs": [
    {
     "data": {
      "image/png": "[encoded data removed]",
      "text/plain": [
       "<Figure size 504x360 with 1 Axes>"
      ]
     },
     "execution_count": 145,
     "metadata": {},
     "output_type": "execute_result"
    }
   ],
   "source": [
    "backend_sim = Aer.get_backend('qasm_simulator')\n",
    "job = execute(quantum_circuit, backend_sim, shots=1024)\n",
    "counts = job.result().get_counts()\n",
    "\n",
    "plot_histogram(counts)"
   ]
  },
  {
   "cell_type": "markdown",
   "id": "f0ed0259",
   "metadata": {},
   "source": [
    "# Multi-Controlled Gate! 👀👀"
   ]
  },
  {
   "cell_type": "code",
   "execution_count": 156,
   "id": "72f85c9f",
   "metadata": {},
   "outputs": [
    {
     "data": {
      "image/png": "[encoded data removed]",
      "text/plain": [
       "<Figure size 456.451x325.08 with 1 Axes>"
      ]
     },
     "execution_count": 156,
     "metadata": {},
     "output_type": "execute_result"
    }
   ],
   "source": [
    "n_qubits = 4\n",
    "control_qubits = 3\n",
    "\n",
    "q = QuantumRegister(n_qubits,'q')\n",
    "c_q = ClassicalRegister(n_qubits,'c_q')\n",
    "\n",
    "quantum_circuit = QuantumCircuit(q, c_q)\n",
    "\n",
    "#--------------------------------------------\n",
    "MCXGate = XGate().control(control_qubits)\n",
    "quantum_circuit.append(MCXGate, [q[0], q[1], q[2], q[3]]) \n",
    "\n",
    "#--------------------------------------------\n",
    "quantum_circuit.barrier()\n",
    "quantum_circuit.measure(q, c_q) \n",
    "\n",
    "quantum_circuit.draw('mpl')"
   ]
  },
  {
   "cell_type": "markdown",
   "id": "9c8e7bcf",
   "metadata": {},
   "source": [
    "## A wild H Gate appeared! 💥"
   ]
  },
  {
   "cell_type": "code",
   "execution_count": 170,
   "id": "b8401119",
   "metadata": {},
   "outputs": [
    {
     "data": {
      "image/png": "[encoded data removed]",
      "text/plain": [
       "<Figure size 155.451x144.48 with 1 Axes>"
      ]
     },
     "execution_count": 170,
     "metadata": {},
     "output_type": "execute_result"
    }
   ],
   "source": [
    "from qiskit.circuit.library import HGate\n",
    "\n",
    "\n",
    "q = QuantumRegister(1,'q')\n",
    "c_q = ClassicalRegister(1,'c_q')\n",
    "\n",
    "quantum_circuit = QuantumCircuit(q, c_q)\n",
    "quantum_circuit.append(HGate(), [q[0]]) \n",
    "\n",
    "quantum_circuit.draw('mpl')"
   ]
  },
  {
   "cell_type": "code",
   "execution_count": 171,
   "id": "c86d0944",
   "metadata": {},
   "outputs": [
    {
     "name": "stdout",
     "output_type": "stream",
     "text": [
      "Statevector([0.70710678+0.j, 0.70710678+0.j],\n",
      "            dims=(2,))\n"
     ]
    },
    {
     "data": {
      "image/png": "[encoded data removed]",
      "text/plain": [
       "<Figure size 288x288 with 1 Axes>"
      ]
     },
     "execution_count": 171,
     "metadata": {},
     "output_type": "execute_result"
    }
   ],
   "source": [
    "# ------ Get the statevector \n",
    "backend_sim = Aer.get_backend('statevector_simulator')\n",
    "job = execute(quantum_circuit, backend_sim) \n",
    "statevector = job.result().get_statevector() \n",
    "\n",
    "print(statevector)\n",
    "plot_bloch_multivector(statevector)"
   ]
  },
  {
   "cell_type": "code",
   "execution_count": 172,
   "id": "ac86bd3e",
   "metadata": {},
   "outputs": [
    {
     "data": {
      "image/png": "[encoded data removed]",
      "text/plain": [
       "<Figure size 504x360 with 1 Axes>"
      ]
     },
     "execution_count": 172,
     "metadata": {},
     "output_type": "execute_result"
    }
   ],
   "source": [
    "# ------ Get the distribution\n",
    "quantum_circuit.measure(q, c_q) \n",
    "\n",
    "backend_sim = Aer.get_backend('qasm_simulator')\n",
    "job = execute(quantum_circuit, backend_sim, shots=1024)\n",
    "counts = job.result().get_counts()\n",
    "\n",
    "plot_histogram(counts)"
   ]
  },
  {
   "cell_type": "markdown",
   "id": "9daa820d",
   "metadata": {},
   "source": [
    "## Every gate can be multi-controlled!"
   ]
  },
  {
   "cell_type": "code",
   "execution_count": 1,
   "id": "002db313",
   "metadata": {},
   "outputs": [
    {
     "ename": "NameError",
     "evalue": "name 'QuantumRegister' is not defined",
     "output_type": "error",
     "traceback": [
      "\u001b[0;31m---------------------------------------------------------------------------\u001b[0m",
      "\u001b[0;31mNameError\u001b[0m                                 Traceback (most recent call last)",
      "\u001b[0;32m/var/folders/37/8ckg6c8n10n94f4dv2xdfll00000gn/T/ipykernel_10946/2621894553.py\u001b[0m in \u001b[0;36m<module>\u001b[0;34m\u001b[0m\n\u001b[1;32m      2\u001b[0m \u001b[0mcontrol_qubits\u001b[0m \u001b[0;34m=\u001b[0m \u001b[0;36m2\u001b[0m\u001b[0;34m\u001b[0m\u001b[0;34m\u001b[0m\u001b[0m\n\u001b[1;32m      3\u001b[0m \u001b[0;34m\u001b[0m\u001b[0m\n\u001b[0;32m----> 4\u001b[0;31m \u001b[0mq\u001b[0m \u001b[0;34m=\u001b[0m \u001b[0mQuantumRegister\u001b[0m\u001b[0;34m(\u001b[0m\u001b[0mn_qubits\u001b[0m\u001b[0;34m,\u001b[0m\u001b[0;34m'q'\u001b[0m\u001b[0;34m)\u001b[0m\u001b[0;34m\u001b[0m\u001b[0;34m\u001b[0m\u001b[0m\n\u001b[0m\u001b[1;32m      5\u001b[0m \u001b[0mc_q\u001b[0m \u001b[0;34m=\u001b[0m \u001b[0mClassicalRegister\u001b[0m\u001b[0;34m(\u001b[0m\u001b[0mn_qubits\u001b[0m\u001b[0;34m,\u001b[0m\u001b[0;34m'c_q'\u001b[0m\u001b[0;34m)\u001b[0m\u001b[0;34m\u001b[0m\u001b[0;34m\u001b[0m\u001b[0m\n\u001b[1;32m      6\u001b[0m \u001b[0;34m\u001b[0m\u001b[0m\n",
      "\u001b[0;31mNameError\u001b[0m: name 'QuantumRegister' is not defined"
     ]
    }
   ],
   "source": [
    "n_qubits = 4\n",
    "control_qubits = 2\n",
    "\n",
    "q = QuantumRegister(n_qubits,'q')\n",
    "c_q = ClassicalRegister(n_qubits,'c_q')\n",
    "\n",
    "quantum_circuit = QuantumCircuit(q, c_q)\n",
    "\n",
    "#--------------------------------------------\n",
    "MCHGate = HGate().control(control_qubits)\n",
    "quantum_circuit.append(MCHGate, [q[0], q[2], q[3]]) \n",
    "\n",
    "#--------------------------------------------\n",
    "quantum_circuit.barrier()\n",
    "quantum_circuit.measure(q, c_q) \n",
    "\n",
    "quantum_circuit.draw('mpl')"
   ]
  },
  {
   "cell_type": "markdown",
   "id": "85c13399",
   "metadata": {},
   "source": [
    "# Be careful to abstractions..."
   ]
  },
  {
   "cell_type": "code",
   "execution_count": 196,
   "id": "3105fffe",
   "metadata": {},
   "outputs": [
    {
     "data": {
      "image/png": "[encoded data removed]",
      "text/plain": [
       "<Figure size 155.451x204.68 with 1 Axes>"
      ]
     },
     "execution_count": 196,
     "metadata": {},
     "output_type": "execute_result"
    }
   ],
   "source": [
    "import numpy as np\n",
    "from qiskit.circuit.library import RYGate\n",
    "\n",
    "q = QuantumRegister(2,'q')\n",
    "c_q = ClassicalRegister(2,'c_q')\n",
    "\n",
    "quantum_circuit = QuantumCircuit(q, c_q)\n",
    "\n",
    "#--------------------------------------------\n",
    "\n",
    "CRGate = RYGate(np.pi).control(1) #what does it happens if we add 2 controls?\n",
    "quantum_circuit.append(CRGate, [q[0], q[1]]) \n",
    "\n",
    "#--------------------------------------------\n",
    "\n",
    "quantum_circuit.draw('mpl')"
   ]
  },
  {
   "cell_type": "code",
   "execution_count": 197,
   "id": "27767426",
   "metadata": {},
   "outputs": [
    {
     "data": {
      "image/png": "[encoded data removed]",
      "text/plain": [
       "<Figure size 336.051x204.68 with 1 Axes>"
      ]
     },
     "execution_count": 197,
     "metadata": {},
     "output_type": "execute_result"
    }
   ],
   "source": [
    "quantum_circuit.decompose(reps=2).draw('mpl')"
   ]
  },
  {
   "cell_type": "markdown",
   "id": "1ccc5fdf",
   "metadata": {},
   "source": [
    "# Let's Entangle! Bell states\n",
    "\n",
    "- The Bell's states  are specific quantum states of two qubits that represent the simplest examples of quantum entanglement. \n",
    "\n",
    "$$\\newcommand{\\ket}[1]{\\left|{#1}\\right\\rangle}$$\n",
    "\n",
    "A quantum state $\\ket{e}$ is entangled if there are no two states $\\ket{\\psi}, \\ket{\\phi}$ such that $\\ket{\\psi}\\otimes\\ket{\\phi} = \\ket{e}$"
   ]
  },
  {
   "cell_type": "code",
   "execution_count": 208,
   "id": "376b4a44",
   "metadata": {},
   "outputs": [
    {
     "data": {
      "image/png": "[encoded data removed]",
      "text/plain": [
       "<Figure size 215.651x204.68 with 1 Axes>"
      ]
     },
     "execution_count": 208,
     "metadata": {},
     "output_type": "execute_result"
    }
   ],
   "source": [
    "q = QuantumRegister(2,'q')\n",
    "c_q = ClassicalRegister(2,'c_q')\n",
    "\n",
    "quantum_circuit = QuantumCircuit(q, c_q)\n",
    "\n",
    "#--------------------------------------------\n",
    "quantum_circuit.append(HGate(),  [q[0]]) \n",
    "\n",
    "\n",
    "CXGate = XGate().control(1) \n",
    "quantum_circuit.append(CXGate, [q[0], q[1]]) \n",
    "\n",
    "#--------------------------------------------\n",
    "\n",
    "quantum_circuit.draw('mpl')"
   ]
  },
  {
   "cell_type": "code",
   "execution_count": 209,
   "id": "a13af2dd",
   "metadata": {},
   "outputs": [
    {
     "name": "stdout",
     "output_type": "stream",
     "text": [
      "Statevector([0.70710678+0.j, 0.        +0.j, 0.        +0.j,\n",
      "             0.70710678+0.j],\n",
      "            dims=(2, 2))\n"
     ]
    }
   ],
   "source": [
    "# ------ Get the statevector\n",
    "backend_sim = Aer.get_backend('statevector_simulator')\n",
    "job = execute(quantum_circuit, backend_sim) \n",
    "statevector = job.result().get_statevector() \n",
    "\n",
    "print(statevector)"
   ]
  },
  {
   "cell_type": "code",
   "execution_count": 210,
   "id": "9aef2709",
   "metadata": {},
   "outputs": [
    {
     "data": {
      "image/png": "[encoded data removed]",
      "text/plain": [
       "<Figure size 504x360 with 1 Axes>"
      ]
     },
     "execution_count": 210,
     "metadata": {},
     "output_type": "execute_result"
    }
   ],
   "source": [
    "quantum_circuit.measure(q, c_q) \n",
    "\n",
    "# ------ Get the distribution\n",
    "backend_sim = Aer.get_backend('qasm_simulator')\n",
    "job = execute(quantum_circuit, backend_sim, shots=1024)\n",
    "counts = job.result().get_counts()\n",
    "\n",
    "plot_histogram(counts)"
   ]
  },
  {
   "cell_type": "markdown",
   "id": "7293e9d9",
   "metadata": {},
   "source": [
    "## Let's do the same without Qiskit "
   ]
  },
  {
   "cell_type": "code",
   "execution_count": 325,
   "id": "a8a5c3d9",
   "metadata": {},
   "outputs": [
    {
     "name": "stdout",
     "output_type": "stream",
     "text": [
      "[[1 0]\n",
      " [0 0]]\n",
      "---------\n",
      "[[0 0]\n",
      " [0 1]]\n",
      "---------\n",
      "[[1.+0.j 0.+0.j 0.+0.j 0.+0.j]\n",
      " [0.+0.j 1.+0.j 0.+0.j 0.+0.j]\n",
      " [0.+0.j 0.+0.j 0.+0.j 1.+0.j]\n",
      " [0.+0.j 0.+0.j 1.+0.j 0.+0.j]]\n"
     ]
    }
   ],
   "source": [
    "I = np.eye(2, dtype=complex)\n",
    "H = 1/np.sqrt(2)*np.ones([2,2], dtype=complex)\n",
    "X = np.array([[0,1],[1,0]])\n",
    "\n",
    "ket0 = np.array([[1],[0]])\n",
    "bra0 = np.conj(ket0.T)\n",
    "\n",
    "# |0><0|\n",
    "print(ket0 * bra0)\n",
    "print('---------')\n",
    "\n",
    "ket1 = np.array([[0],[1]])\n",
    "bra1 = np.conj(ket1.T)\n",
    "\n",
    "# |1><1|\n",
    "print(ket1 * bra1)\n",
    "print('---------')\n",
    "\n",
    "CX = np.kron(ket0 * bra0, I) + np.kron(ket1 * bra1, X)\n",
    "print(CX)"
   ]
  },
  {
   "cell_type": "code",
   "execution_count": 287,
   "id": "ee61dc12",
   "metadata": {},
   "outputs": [
    {
     "name": "stdout",
     "output_type": "stream",
     "text": [
      "[[0.70710678+0.j 0.        +0.j 0.70710678+0.j 0.        +0.j]\n",
      " [0.        +0.j 0.70710678+0.j 0.        +0.j 0.70710678+0.j]\n",
      " [0.70710678+0.j 0.        +0.j 0.70710678+0.j 0.        +0.j]\n",
      " [0.        +0.j 0.70710678+0.j 0.        +0.j 0.70710678+0.j]]\n"
     ]
    }
   ],
   "source": [
    "# Define a \"Bell'state-maker unitary\"\n",
    "\n",
    "HxI = np.kron(H,I)\n",
    "print(HxI)\n",
    "bell_maker_unitary = CX.dot(HxI)"
   ]
  },
  {
   "cell_type": "code",
   "execution_count": 303,
   "id": "048451a8",
   "metadata": {},
   "outputs": [
    {
     "name": "stdout",
     "output_type": "stream",
     "text": [
      "[[0.70710678+0.j]\n",
      " [0.        +0.j]\n",
      " [0.        +0.j]\n",
      " [0.70710678+0.j]]\n"
     ]
    }
   ],
   "source": [
    "#init state\n",
    "ket00 = np.array([[1],[0],[0],[0]])\n",
    "\n",
    "bell_state = bell_maker_unitary.dot(ket00)\n",
    "print(bell_state)\n",
    "\n",
    "#graph"
   ]
  },
  {
   "cell_type": "code",
   "execution_count": 304,
   "id": "d5e4d863",
   "metadata": {},
   "outputs": [
    {
     "name": "stdout",
     "output_type": "stream",
     "text": [
      "[[0.5+0.j]]\n"
     ]
    }
   ],
   "source": [
    "# Apply a measurement\n",
    "\n",
    "base = np.array([[0],[0],[0],[1]])\n",
    "measurement_11_operator = base*np.conj(base.T)\n",
    "\n",
    "# <bell_state|Measure11|bell_state>\n",
    "output = np.conj(bell_state.T).dot(measurement_11_operator).dot(bell_state)\n",
    "print(output)"
   ]
  },
  {
   "cell_type": "markdown",
   "id": "d0e8986e",
   "metadata": {},
   "source": [
    "# Ok, I prefer Qiskit 😅\n",
    "\n",
    "\n",
    "\n"
   ]
  },
  {
   "cell_type": "code",
   "execution_count": null,
   "id": "2c12a5a9",
   "metadata": {},
   "outputs": [],
   "source": []
  },
  {
   "cell_type": "markdown",
   "id": "98700592",
   "metadata": {},
   "source": [
    "# Let's run our quantum algorithm on a REAL quantum computer 🔥"
   ]
  },
  {
   "cell_type": "code",
   "execution_count": 313,
   "id": "8e4fc1fd",
   "metadata": {},
   "outputs": [],
   "source": [
    "#https://quantum-computing.ibm.com/\n",
    "\n",
    "TOKEN = '8551206d0a50a352b3113bd26ca9d7d6dfdbae73048cdb4c54aa3820779173ed562b7455004343fd731af37b6084e6bc907f01b80c1d79113461672e40ae9625'"
   ]
  },
  {
   "cell_type": "code",
   "execution_count": 314,
   "id": "a997286c",
   "metadata": {},
   "outputs": [
    {
     "name": "stderr",
     "output_type": "stream",
     "text": [
      "ibmqfactory.load_account:WARNING:2023-03-10 00:48:17,171: Credentials are already in use. The existing account in the session will be replaced.\n"
     ]
    },
    {
     "name": "stdout",
     "output_type": "stream",
     "text": [
      "ibmq_qasm_simulator\n",
      "ibmq_lima\n",
      "ibmq_belem\n",
      "ibmq_quito\n",
      "simulator_statevector\n",
      "simulator_mps\n",
      "simulator_extended_stabilizer\n",
      "simulator_stabilizer\n",
      "ibmq_jakarta\n",
      "ibmq_manila\n",
      "ibm_lagos\n",
      "ibm_nairobi\n",
      "ibm_perth\n",
      "ibm_oslo\n"
     ]
    }
   ],
   "source": [
    "from qiskit import IBMQ\n",
    "\n",
    "#IBMQ.save_account(TOKEN)\n",
    "IBMQ.load_account() # Load account from disk\n",
    "IBMQ.providers()    # List all available providers\n",
    "\n",
    "provider = IBMQ.get_provider(hub='ibm-q')\n",
    "for backend in provider.backends():\n",
    "    print(backend.status().to_dict()['backend_name'])"
   ]
  },
  {
   "cell_type": "code",
   "execution_count": 316,
   "id": "4cc6ea9e",
   "metadata": {},
   "outputs": [],
   "source": [
    "real_device = provider.get_backend('ibm_oslo')"
   ]
  },
  {
   "cell_type": "markdown",
   "id": "1ad7aa55",
   "metadata": {},
   "source": [
    "## Let's send to the quantum computer the circuit that creates a Bell's pair"
   ]
  },
  {
   "cell_type": "code",
   "execution_count": 318,
   "id": "2e8857c2",
   "metadata": {},
   "outputs": [
    {
     "data": {
      "image/png": "[encoded data removed]",
      "text/plain": [
       "<Figure size 336.051x204.68 with 1 Axes>"
      ]
     },
     "execution_count": 318,
     "metadata": {},
     "output_type": "execute_result"
    }
   ],
   "source": [
    "q = QuantumRegister(2,'q')\n",
    "c_q = ClassicalRegister(2,'c_q')\n",
    "\n",
    "quantum_circuit = QuantumCircuit(q, c_q)\n",
    "\n",
    "#--------------------------------------------\n",
    "quantum_circuit.append(HGate(),  [q[0]]) \n",
    "\n",
    "CXGate = XGate().control(1) \n",
    "quantum_circuit.append(CXGate, [q[0], q[1]]) \n",
    "\n",
    "quantum_circuit.measure(q, c_q) \n",
    "#--------------------------------------------\n",
    "\n",
    "quantum_circuit.draw('mpl')"
   ]
  },
  {
   "cell_type": "code",
   "execution_count": 320,
   "id": "9bbccfbc",
   "metadata": {},
   "outputs": [
    {
     "name": "stdout",
     "output_type": "stream",
     "text": [
      "640a7127b14ec6b717289767\n"
     ]
    }
   ],
   "source": [
    "job = execute(quantum_circuit, backend=real_device, shots=1024)\n",
    "print(job.job_id())"
   ]
  },
  {
   "cell_type": "code",
   "execution_count": 322,
   "id": "63337ccf",
   "metadata": {},
   "outputs": [
    {
     "name": "stdout",
     "output_type": "stream",
     "text": [
      "Job Status: job has successfully run\n"
     ]
    }
   ],
   "source": [
    "from qiskit.tools.monitor import job_monitor\n",
    "job_monitor(job)"
   ]
  },
  {
   "cell_type": "code",
   "execution_count": 326,
   "id": "9b54c486",
   "metadata": {},
   "outputs": [],
   "source": [
    "device_result = job.result()"
   ]
  },
  {
   "cell_type": "code",
   "execution_count": 324,
   "id": "8bce6ffd",
   "metadata": {},
   "outputs": [
    {
     "data": {
      "image/png": "[encoded data removed]",
      "text/plain": [
       "<Figure size 504x360 with 1 Axes>"
      ]
     },
     "execution_count": 324,
     "metadata": {},
     "output_type": "execute_result"
    }
   ],
   "source": [
    "plot_histogram(device_result.get_counts(quantum_circuit))"
   ]
  },
  {
   "cell_type": "code",
   "execution_count": null,
   "id": "b3ac5729",
   "metadata": {},
   "outputs": [],
   "source": []
  }
 ],
 "metadata": {
  "kernelspec": {
   "display_name": "Python 3 (ipykernel)",
   "language": "python",
   "name": "python3"
  },
  "language_info": {
   "codemirror_mode": {
    "name": "ipython",
    "version": 3
   },
   "file_extension": ".py",
   "mimetype": "text/x-python",
   "name": "python",
   "nbconvert_exporter": "python",
   "pygments_lexer": "ipython3",
   "version": "3.9.7"
  }
 },
 "nbformat": 4,
 "nbformat_minor": 5
}
