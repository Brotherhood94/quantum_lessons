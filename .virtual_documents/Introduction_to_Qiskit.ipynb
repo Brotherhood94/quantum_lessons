


%pip install qiskit qiskit-ibm-runtime numpy prophet pydantic


import qiskit
qiskit.__version__
# Just in case of errors: pip install --upgrade IPython ipykernel  ipywidgets jupyter_client jupyter_core jupyter_server jupyterlab nbclient nbconvert nbformat notebook qtconsole traitlets


from qiskit import QuantumCircuit, QuantumRegister


# Let's define a qubit!
q = QuantumRegister(1,'q')

# We add the qubit 'q' to a Quantum Circuit 'qc'
quantum_circuit = QuantumCircuit(q)





from qiskit_ibm_runtime import Sampler


try:
    backend_sim = AerSimulator()
    sampler = Sampler(backend_sim)
    job = sampler.run(quantum_circuit)
    result = job.result()
    count = job.result().get_counts()
except Exception:
    print('Something is missing...')





from qiskit import ClassicalRegister
from qiskit.visualization import plot_histogram

# Define qubits and bits
q = QuantumRegister(1,'q')
c_q = ClassicalRegister(1,'c_q')

# Add the qubits and the bits to a quantum circuit
quantum_circuit = QuantumCircuit(q, c_q)

# Add the measurements to your quantum circuit
quantum_circuit.measure(q, c_q) # <---- HERE 

# Execute the quantum circuit
backend_sim = AerSimulator()
transpiled_circuit = transpile(quantum_circuit, backend_sim)
job = backend_sim.run(transpiled_circuit, backend_sim, shots=1024)
counts = job.result().get_counts()

plot_histogram(counts)





from qiskit.circuit.library import XGate


# ------ Define the circuit 
q = QuantumRegister(1,'q')
c_q = ClassicalRegister(1,'c_q')

quantum_circuit = QuantumCircuit(q, c_q)

# ------ Add quantum gates to the circuit 
quantum_circuit.append(XGate(), q)





from qiskit.quantum_info import Operator

operator = Operator(quantum_circuit)
matrix = operator.data
print(matrix)





quantum_circuit.draw('mpl')  #or quantum_circuit.draw()


# ------ Add Measurements 
quantum_circuit.measure(q, c_q)

quantum_circuit.draw('mpl')


backend_sim = Aer.get_backend('qasm_simulator')
job = execute(quantum_circuit, backend_sim, shots=1024)
counts = job.result().get_counts()

plot_histogram(counts)





from qiskit.circuit.library import XGate

q = QuantumRegister(1,'q')
c_q = ClassicalRegister(1,'c_q')

quantum_circuit = QuantumCircuit(q, c_q)

#quantum_circuit.append(XGate(), q)

# ------ Get the statevector  <--- !!! Don't add measurements before
backend_sim = Aer.get_backend('statevector_simulator') # <----- HERE
job = execute(quantum_circuit, backend_sim) 
statevector = job.result().get_statevector() 

print(statevector)





from qiskit.visualization import plot_bloch_multivector

plot_bloch_multivector(statevector)





from qiskit.circuit.library import XGate

n_qubits = 4

q = QuantumRegister(n_qubits,'q')
c_q = ClassicalRegister(n_qubits,'c_q')

quantum_circuit = QuantumCircuit(q, c_q)

#--------------------------------------------

#NOTE: The XGate is a 1-qubit gate (a 2x2 unitary matrix)
quantum_circuit.append(XGate(), [q[1]]) # <--- list of qubits

#--------------------------------------------

quantum_circuit.draw('mpl')


# ------ Get the statevector
backend_sim = Aer.get_backend('statevector_simulator') # <----- HERE
job = execute(quantum_circuit, backend_sim) 
statevector = job.result().get_statevector() 

print(statevector)


# ------ Get the distribution

quantum_circuit.measure(q, c_q) 

backend_sim = Aer.get_backend('qasm_simulator')
job = execute(quantum_circuit, backend_sim, shots=1024)
counts = job.result().get_counts()

plot_histogram(counts)





n_qubits = 4

q = QuantumRegister(n_qubits,'q')
c_q = ClassicalRegister(n_qubits,'c_q')

quantum_circuit = QuantumCircuit(q, c_q)

#--------------------------------------------

#NOTE: The XGate is a 1-qubit gate (a 2x2 unitary matrix)
quantum_circuit.append(XGate(), [q[0]]) 
quantum_circuit.append(XGate(), [q[2]]) 
quantum_circuit.append(XGate(), [q[3]])

#--------------------------------------------
quantum_circuit.barrier()
quantum_circuit.measure(q, c_q) 

quantum_circuit.draw('mpl')


backend_sim = Aer.get_backend('qasm_simulator')
job = execute(quantum_circuit, backend_sim, shots=1024)
counts = job.result().get_counts()

plot_histogram(counts)





q = QuantumRegister(2,'q')
c_q = ClassicalRegister(2,'c_q')

quantum_circuit = QuantumCircuit(q, c_q)

#--------------------------------------------

# Let's define a controlled-XGate (a.k.a. CX, CNOT)

CXGate = XGate().control(1)
quantum_circuit.append(CXGate, [q[0], q[1]]) 

#--------------------------------------------

quantum_circuit.barrier()
quantum_circuit.measure(q, c_q) 

quantum_circuit.draw('mpl')





backend_sim = Aer.get_backend('qasm_simulator')
job = execute(quantum_circuit, backend_sim, shots=1024)
counts = job.result().get_counts()

plot_histogram(counts)





q = QuantumRegister(2,'q')
c_q = ClassicalRegister(2,'c_q')

quantum_circuit = QuantumCircuit(q, c_q)

#-------- Set q[0] to |1>

quantum_circuit.append(XGate(), [q[0]]) 

#--------------------------------------------

CXGate = XGate().control(1)
quantum_circuit.append(CXGate, [q[0], q[1]]) 

#--------------------------------------------
quantum_circuit.barrier()
quantum_circuit.measure(q, c_q) 

quantum_circuit.draw('mpl')


backend_sim = Aer.get_backend('qasm_simulator')
job = execute(quantum_circuit, backend_sim, shots=1024)
counts = job.result().get_counts()

plot_histogram(counts)





n_qubits = 4
control_qubits = 3

q = QuantumRegister(n_qubits,'q')
c_q = ClassicalRegister(n_qubits,'c_q')

quantum_circuit = QuantumCircuit(q, c_q)

#--------------------------------------------
MCXGate = XGate().control(control_qubits)
quantum_circuit.append(MCXGate, [q[0], q[1], q[2], q[3]]) 

#--------------------------------------------
quantum_circuit.barrier()
quantum_circuit.measure(q, c_q) 

quantum_circuit.draw('mpl')





from qiskit.circuit.library import HGate


q = QuantumRegister(1,'q')
c_q = ClassicalRegister(1,'c_q')

quantum_circuit = QuantumCircuit(q, c_q)
quantum_circuit.append(HGate(), [q[0]]) 

quantum_circuit.draw('mpl')


# ------ Get the statevector 
backend_sim = Aer.get_backend('statevector_simulator')
job = execute(quantum_circuit, backend_sim) 
statevector = job.result().get_statevector() 

print(statevector)
plot_bloch_multivector(statevector)


# ------ Get the distribution
quantum_circuit.measure(q, c_q) 

backend_sim = Aer.get_backend('qasm_simulator')
job = execute(quantum_circuit, backend_sim, shots=1024)
counts = job.result().get_counts()

plot_histogram(counts)





n_qubits = 4
control_qubits = 2

q = QuantumRegister(n_qubits,'q')
c_q = ClassicalRegister(n_qubits,'c_q')

quantum_circuit = QuantumCircuit(q, c_q)

#--------------------------------------------
MCHGate = HGate().control(control_qubits)
quantum_circuit.append(MCHGate, [q[0], q[2], q[3]]) 

#--------------------------------------------
quantum_circuit.barrier()
quantum_circuit.measure(q, c_q) 

quantum_circuit.draw('mpl')





import numpy as np
from qiskit.circuit.library import RYGate

q = QuantumRegister(2,'q')
c_q = ClassicalRegister(2,'c_q')

quantum_circuit = QuantumCircuit(q, c_q)

#--------------------------------------------

CRGate = RYGate(np.pi).control(1) #what does it happens if we add 2 controls?
quantum_circuit.append(CRGate, [q[0], q[1]]) 

#--------------------------------------------

quantum_circuit.draw('mpl')


quantum_circuit.decompose(reps=2).draw('mpl')





q = QuantumRegister(2,'q')
c_q = ClassicalRegister(2,'c_q')

quantum_circuit = QuantumCircuit(q, c_q)

#--------------------------------------------
quantum_circuit.append(HGate(),  [q[0]]) 


CXGate = XGate().control(1) 
quantum_circuit.append(CXGate, [q[0], q[1]]) 

#--------------------------------------------

quantum_circuit.draw('mpl')


# ------ Get the statevector
backend_sim = Aer.get_backend('statevector_simulator')
job = execute(quantum_circuit, backend_sim) 
statevector = job.result().get_statevector() 

print(statevector)


quantum_circuit.measure(q, c_q) 

# ------ Get the distribution
backend_sim = Aer.get_backend('qasm_simulator')
job = execute(quantum_circuit, backend_sim, shots=1024)
counts = job.result().get_counts()

plot_histogram(counts)





I = np.eye(2, dtype=complex)
H = 1/np.sqrt(2)*np.ones([2,2], dtype=complex)
X = np.array([[0,1],[1,0]])

ket0 = np.array([[1],[0]])
bra0 = np.conj(ket0.T)

# |0><0|
print(ket0 * bra0)
print('---------')

ket1 = np.array([[0],[1]])
bra1 = np.conj(ket1.T)

# |1><1|
print(ket1 * bra1)
print('---------')

CX = np.kron(ket0 * bra0, I) + np.kron(ket1 * bra1, X)
print(CX)


# Define a "Bell'state-maker unitary"

HxI = np.kron(H,I)
print(HxI)
bell_maker_unitary = CX.dot(HxI)


#init state
ket00 = np.array([[1],[0],[0],[0]])

bell_state = bell_maker_unitary.dot(ket00)
print(bell_state)

#graph


# Apply a measurement

base = np.array([[0],[0],[0],[1]])
measurement_11_operator = base*np.conj(base.T)

# <bell_state|Measure11|bell_state>
output = np.conj(bell_state.T).dot(measurement_11_operator).dot(bell_state)
print(output)











#https://quantum-computing.ibm.com/

TOKEN = '8551206d0a50a352b3113bd26ca9d7d6dfdbae73048cdb4c54aa3820779173ed562b7455004343fd731af37b6084e6bc907f01b80c1d79113461672e40ae9625'


from qiskit import IBMQ

#IBMQ.save_account(TOKEN)
IBMQ.load_account() # Load account from disk
IBMQ.providers()    # List all available providers

provider = IBMQ.get_provider(hub='ibm-q')
for backend in provider.backends():
    print(backend.status().to_dict()['backend_name'])


real_device = provider.get_backend('ibm_oslo')





q = QuantumRegister(2,'q')
c_q = ClassicalRegister(2,'c_q')

quantum_circuit = QuantumCircuit(q, c_q)

#--------------------------------------------
quantum_circuit.append(HGate(),  [q[0]]) 

CXGate = XGate().control(1) 
quantum_circuit.append(CXGate, [q[0], q[1]]) 

quantum_circuit.measure(q, c_q) 
#--------------------------------------------

quantum_circuit.draw('mpl')


job = execute(quantum_circuit, backend=real_device, shots=1024)
print(job.job_id())


from qiskit.tools.monitor import job_monitor
job_monitor(job)


device_result = job.result()


plot_histogram(device_result.get_counts(quantum_circuit))



