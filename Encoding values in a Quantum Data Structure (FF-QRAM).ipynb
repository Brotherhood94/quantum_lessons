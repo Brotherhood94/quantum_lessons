{
 "cells": [
  {
   "cell_type": "code",
   "execution_count": 1,
   "id": "e9d2ad81",
   "metadata": {},
   "outputs": [],
   "source": [
    "import random\n",
    "import math\n",
    "from qiskit import QuantumRegister, QuantumCircuit\n",
    "from qiskit.circuit.library import HGate, XGate, MCMT, RYGate"
   ]
  },
  {
   "cell_type": "code",
   "execution_count": 2,
   "id": "eb826c0b",
   "metadata": {},
   "outputs": [
    {
     "name": "stdout",
     "output_type": "stream",
     "text": [
      "[0.57, 0.43, 0.58, 0.21]\n"
     ]
    }
   ],
   "source": [
    "list_size = 4\n",
    "random.seed(10)\n",
    "\n",
    "data = [round(random.uniform(0,1), 2) for _ in range(list_size)]\n",
    "print(data)"
   ]
  },
  {
   "cell_type": "code",
   "execution_count": 3,
   "id": "a3a271c7",
   "metadata": {},
   "outputs": [],
   "source": [
    "def move_to_address(ffqram, index, q_address):\n",
    "    bin_str_pattern = '{:0%sb}' % len(q_address)\n",
    "    bin_address = bin_str_pattern.format(index)\n",
    "    for idx, bit in enumerate(bin_address):\n",
    "        if int(bit):\n",
    "            ffqram.append(XGate(), [q_address[idx]])"
   ]
  },
  {
   "cell_type": "code",
   "execution_count": 4,
   "id": "2fac0b11",
   "metadata": {},
   "outputs": [],
   "source": [
    "def store_value(ffqram, q_address, q_value, value):\n",
    "    MCRYGate = MCMT(RYGate(2*math.asin(value)), num_ctrl_qubits=len(q_address), num_target_qubits=1)\n",
    "    ffqram.append(MCRYGate, q_address[:]+[q_value])"
   ]
  },
  {
   "cell_type": "code",
   "execution_count": 5,
   "id": "6f89cbdc",
   "metadata": {},
   "outputs": [
    {
     "data": {
      "image/png": "[encoded data removed]",
      "text/plain": [
       "<Figure size 1058.53x204.68 with 1 Axes>"
      ]
     },
     "execution_count": 5,
     "metadata": {},
     "output_type": "execute_result"
    }
   ],
   "source": [
    "q_address = QuantumRegister(math.floor(math.log2(list_size)), 'address')\n",
    "q_value = QuantumRegister(1, 'value')\n",
    "\n",
    "ffqram = QuantumCircuit(q_address, q_value)\n",
    "\n",
    "for i in range(len(q_address)):\n",
    "    ffqram.append(HGate(), [q_address[i]])\n",
    "\n",
    "for index, value in enumerate(data):\n",
    "    move_to_address(ffqram, index, q_address)\n",
    "    store_value(ffqram, q_address, q_value, value)\n",
    "    move_to_address(ffqram, index, q_address)\n",
    "    ffqram.barrier()\n",
    "    \n",
    "ffqram.decompose().draw('mpl')"
   ]
  },
  {
   "cell_type": "code",
   "execution_count": null,
   "id": "ee7fad05",
   "metadata": {},
   "outputs": [],
   "source": []
  }
 ],
 "metadata": {
  "kernelspec": {
   "display_name": "Python 3 (ipykernel)",
   "language": "python",
   "name": "python3"
  },
  "language_info": {
   "codemirror_mode": {
    "name": "ipython",
    "version": 3
   },
   "file_extension": ".py",
   "mimetype": "text/x-python",
   "name": "python",
   "nbconvert_exporter": "python",
   "pygments_lexer": "ipython3",
   "version": "3.9.7"
  }
 },
 "nbformat": 4,
 "nbformat_minor": 5
}
